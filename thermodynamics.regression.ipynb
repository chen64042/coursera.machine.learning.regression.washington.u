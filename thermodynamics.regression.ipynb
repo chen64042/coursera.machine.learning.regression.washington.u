{
 "cells": [
  {
   "cell_type": "markdown",
   "metadata": {},
   "source": [
    "# Thermodynamics Regression\n",
    "## Background\n",
    "This is specifc for the purple model built, with double island and foil on top of the lid.\n",
    "## Newton's Law of Cooling: \n",
    "\n",
    "$$k = -\\frac{1}{t}ln\\frac{T_{s} - T_{r}}{T_{f} - T_{r}}$$\n",
    "\n",
    "$$t: duration$$\n",
    "$$T_{s}: starting\\space temperature$$\n",
    "$$T_{f}: final\\space temperature$$\n",
    "$$T_{r}: room\\space temperature$$"
   ]
  },
  {
   "cell_type": "markdown",
   "metadata": {},
   "source": [
    "## Functions\n",
    "\n",
    "### The Following Functions Are Defined\n",
    "* RSS\n",
    "* MSE\n",
    "* K-fold cross-validation\n",
    "* Find best L2 penalty based on cross-validation\n",
    "* Print linear regression\n",
    "* Predict with the cofficients"
   ]
  },
  {
   "cell_type": "code",
   "execution_count": 1,
   "metadata": {},
   "outputs": [],
   "source": [
    "import graphlab\n",
    "import numpy as np\n",
    "\n",
    "# convenient functions\n",
    "squared = lambda x: x*x\n",
    "\n",
    "def get_residual_sum_of_squares(model, data, outcome):\n",
    "    return sum(map(squared, outcome - model.predict(data)))\n",
    "\n",
    "def get_mean_residual_sum_of_squares(model, data, outcome):\n",
    "    return sum(map(squared, outcome - model.predict(data)))/len(outcome)\n",
    "\n",
    "def k_fold_cross_validation(k, l2_penalty, data, output_name, features_list):\n",
    "    shuffled_data = graphlab.toolkits.cross_validation.shuffle(data, random_seed=1)\n",
    "    n = len(shuffled_data)\n",
    "    mse_average = 0\n",
    "    \n",
    "    for i in xrange(k):\n",
    "        start = (n*i)/k\n",
    "        end = (n*(i+1))/k-1\n",
    "        validation = shuffled_data[start:end]\n",
    "        train = shuffled_data[0:start].append(shuffled_data[end+1:n])\n",
    "        model = graphlab.linear_regression.create(train, target = output_name, features = features_list, validation_set = None, l2_penalty=l2_penalty)\n",
    "        \n",
    "        mse_average = mse_average + get_mean_residual_sum_of_squares(model, data, data[output_name])\n",
    "    \n",
    "    return mse_average/k\n",
    "\n",
    "def find_best_lambda(folds, input_data, output_name, feature_names):\n",
    "    penalties = np.logspace(1, 7, num=13)\n",
    "    lowest_validation_error = float(\"inf\")\n",
    "    best_lambda = 0\n",
    "    \n",
    "    for penalty in penalties:\n",
    "        mse_average = k_fold_cross_validation(k=folds, l2_penalty=penalty, data=input_data, output_name = output_name, features_list = feature_names)\n",
    "\n",
    "        if (mse_average < lowest_validation_error):\n",
    "            lowest_validation_error = mse_average\n",
    "            best_lambda = penalty\n",
    "\n",
    "    return best_lambda\n",
    "\n",
    "def print_regression(coefficients):\n",
    "    #intercept\n",
    "    presentation = \"%8.6f\" % coefficients['value'][0]\n",
    "    \n",
    "    for i in xrange(1, len(coefficients)):\n",
    "        s = \"(%8.6f)\" % coefficients['value'][i]\n",
    "\n",
    "        presentation = s + \"x(\" + coefficients['name'][i] + \") + \" + presentation\n",
    "        \n",
    "    return presentation\n",
    "\n",
    "def predict_any(rm_t, start_t, k_value, duration, cofficients):\n",
    "    return start_t*cofficients['value'][2]+rm_t*cofficients['value'][1]+cofficients['value'][0]\n"
   ]
  },
  {
   "cell_type": "markdown",
   "metadata": {},
   "source": [
    "## Setting Things UP\n",
    "### Set up environment\n",
    "* Read Files\n",
    "* Split between training_validation and test sets.\n",
    "* Set up N and K for cross-validation\n",
    "* set up features for cross-validation\n",
    "\n",
    "### The plan: 1. use k-value, T<sub>r</sub>, T<sub>s</sub>, and t to regress for T<sub>f</sub>"
   ]
  },
  {
   "cell_type": "code",
   "execution_count": null,
   "metadata": {},
   "outputs": [],
   "source": [
    "# read files\n",
    "purple_data_all = graphlab.SFrame.read_csv('purple.specific.data.all.csv')\n",
    "purple_data_double_island = graphlab.SFrame.read_csv('purple.specific.data.double.island.csv')\n",
    "purple_data_old = graphlab.SFrame.read_csv('purple.specific.data.old.model.csv')\n",
    "\n",
    "# split data for cross validation\n",
    "purple_train_validate_data_all, purple_test_data_all = purple_data_all.random_split(.9,seed=0)\n",
    "purple_train_validate_data_double_island, purple_test_data_double_island = purple_data_double_island.random_split(.9,seed=0)\n",
    "purple_train_validate_data_old, purple_test_data_old = purple_data_old.random_split(.9,seed=0)\n",
    "\n",
    "# set up for \"leave one out\" cross validation\n",
    "n_all = len(spurple_train_validate_data_all)\n",
    "n_double_island = len(spurple_train_validate_data_double_island)\n",
    "n_old = len(spurple_train_validate_data_old)\n",
    "k_all = n_all\n",
    "k_double_island = n_double_island\n",
    "k_old = n_old\n",
    "\n",
    "# set up features for cross-validation\n",
    "# the plan: 1. use k-value, T_r, T_s, and t to regress for T_f\n",
    "xthermo_features = ['Room temperature', 'Start temperature', 'K Value Calculator', 'Duration']\n",
    "xoutput_feature = 'End temperature'"
   ]
  },
  {
   "cell_type": "code",
   "execution_count": null,
   "metadata": {},
   "outputs": [],
   "source": [
    "best_lambda_all = find_best_lambda(k_all, purple_train_validate_data_all, xoutput_feature, xthermo_features)\n",
    "best_lambda_double_island = find_best_lambda(k_double_island, purple_train_validate_data_double_island, xoutput_feature, xthermo_features)\n",
    "best_lambda_old = find_best_lambda(k_old, purple_train_validate_data_old, xoutput_feature, xthermo_features)"
   ]
  },
  {
   "cell_type": "code",
   "execution_count": null,
   "metadata": {},
   "outputs": [],
   "source": [
    "print 'lambda_all: ', best_lambda_all, 'lambda_double_island: ', best_lambda_double_island, 'lambda_old', best_lambda_old"
   ]
  },
  {
   "cell_type": "markdown",
   "metadata": {},
   "source": [
    "## Build models with Best Lambda Identified"
   ]
  },
  {
   "cell_type": "code",
   "execution_count": null,
   "metadata": {},
   "outputs": [],
   "source": [
    "model_all = graphlab.linear_regression.create(purple_train_validate_data_all, target = xoutput_feature, features = xthermo_features, validation_set = None, l2_penalty=best_lambda_all)\n",
    "model_double_island = graphlab.linear_regression.create(purple_train_validate_data_double_island, target = xoutput_feature, features = xthermo_features, validation_set = None, l2_penalty=best_lambda_double_island)\n",
    "model_old = graphlab.linear_regression.create(purple_train_validate_data_old, target = xoutput_feature, features = xthermo_features, validation_set = None, l2_penalty=best_lambda_old)"
   ]
  },
  {
   "cell_type": "markdown",
   "metadata": {},
   "source": [
    "## Print Coefficients and MSE"
   ]
  },
  {
   "cell_type": "code",
   "execution_count": null,
   "metadata": {},
   "outputs": [],
   "source": [
    "print print_regression(model_all['coefficients'])\n",
    "print print_regression(model_double_island['coefficients'])\n",
    "print print_regression(model_old['coefficients'])\n",
    "\n",
    "mse_all = get_mean_residual_sum_of_squares(model_all, purple_test_data_all, purple_test_data_all[xoutput_feature])\n",
    "mse_double_island = get_mean_residual_sum_of_squares(model_double_island, purple_test_data_double_island, purple_test_data_double_island[xoutput_feature])\n",
    "mse_old = get_mean_residual_sum_of_squares(model_old, purple_test_data_old, purple_test_data_old[xoutput_feature])\n",
    "\n",
    "print mse_all, \" \", mse_double_island, \" \", mse_old"
   ]
  },
  {
   "cell_type": "markdown",
   "metadata": {},
   "source": [
    "## Use the mean of k value to make a prediction\n",
    "Predict with room temperature 21, start temperature 71, duration 25, and mean k-value from each corresponding data set"
   ]
  },
  {
   "cell_type": "code",
   "execution_count": null,
   "metadata": {},
   "outputs": [],
   "source": [
    "k_all_mean = np.mean(np.array(purple_data_all['K Value Calculator']))\n",
    "k_double_island_mean = np.mean(np.array(purple_data_double_island['K Value Calculator']))\n",
    "k_old_mean = np.mean(np.array(purple_data_old['K Value Calculator']))\n",
    "\n",
    "v = predict_any(21, 71, k_double_island_mean, 25, model_double_island['coefficients'])\n",
    "\n",
    "print \"%5.2f\" % v\n",
    "\n",
    "v = predict_any(21, 71, k_all_mean, 25, model_all['coefficients'])\n",
    "\n",
    "print \"%5.2f\" % v"
   ]
  }
 ],
 "metadata": {
  "kernelspec": {
   "display_name": "Python 2",
   "language": "python",
   "name": "python2"
  },
  "language_info": {
   "codemirror_mode": {
    "name": "ipython",
    "version": 2
   },
   "file_extension": ".py",
   "mimetype": "text/x-python",
   "name": "python",
   "nbconvert_exporter": "python",
   "pygments_lexer": "ipython2",
   "version": "2.7.15"
  }
 },
 "nbformat": 4,
 "nbformat_minor": 2
}
