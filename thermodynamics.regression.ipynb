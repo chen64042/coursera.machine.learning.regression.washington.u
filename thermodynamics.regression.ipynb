{
 "cells": [
  {
   "cell_type": "markdown",
   "metadata": {},
   "source": [
    "# Set Up Basic Model\n",
    "- Linear model with two features: Start temperature and Room temperature\n",
    "- Split training vs test data set 80-20"
   ]
  },
  {
   "cell_type": "code",
   "execution_count": 1,
   "metadata": {},
   "outputs": [
    {
     "name": "stdout",
     "output_type": "stream",
     "text": [
      "This non-commercial license of GraphLab Create for academic use is assigned to chen.jenhau@gmail.com and will expire on July 15, 2019.\n"
     ]
    },
    {
     "name": "stderr",
     "output_type": "stream",
     "text": [
      "[INFO] graphlab.cython.cy_server: GraphLab Create v2.1 started. Logging: /tmp/graphlab_server_1548651367.log\n"
     ]
    },
    {
     "data": {
      "text/html": [
       "<pre>Finished parsing file /home/linux/Documents/coursera/machine.learning.regression/thermodynamics.red.csv</pre>"
      ],
      "text/plain": [
       "Finished parsing file /home/linux/Documents/coursera/machine.learning.regression/thermodynamics.red.csv"
      ]
     },
     "metadata": {},
     "output_type": "display_data"
    },
    {
     "data": {
      "text/html": [
       "<pre>Parsing completed. Parsed 33 lines in 0.421251 secs.</pre>"
      ],
      "text/plain": [
       "Parsing completed. Parsed 33 lines in 0.421251 secs."
      ]
     },
     "metadata": {},
     "output_type": "display_data"
    },
    {
     "name": "stdout",
     "output_type": "stream",
     "text": [
      "------------------------------------------------------\n",
      "Inferred types from first 100 line(s) of file as \n",
      "column_type_hints=[str,str,int,float,str,float,float,float,str,str,int,float,float,str,str,float,str,str,str]\n",
      "If parsing fails due to incorrect types, you can correct\n",
      "the inferred type list above and pass it to read_csv in\n",
      "the column_type_hints argument\n",
      "------------------------------------------------------\n"
     ]
    },
    {
     "data": {
      "text/html": [
       "<pre>Finished parsing file /home/linux/Documents/coursera/machine.learning.regression/thermodynamics.red.csv</pre>"
      ],
      "text/plain": [
       "Finished parsing file /home/linux/Documents/coursera/machine.learning.regression/thermodynamics.red.csv"
      ]
     },
     "metadata": {},
     "output_type": "display_data"
    },
    {
     "data": {
      "text/html": [
       "<pre>Parsing completed. Parsed 33 lines in 0.964077 secs.</pre>"
      ],
      "text/plain": [
       "Parsing completed. Parsed 33 lines in 0.964077 secs."
      ]
     },
     "metadata": {},
     "output_type": "display_data"
    },
    {
     "data": {
      "text/html": [
       "<pre>Finished parsing file /home/linux/Documents/coursera/machine.learning.regression/thermodynamics.purple.csv</pre>"
      ],
      "text/plain": [
       "Finished parsing file /home/linux/Documents/coursera/machine.learning.regression/thermodynamics.purple.csv"
      ]
     },
     "metadata": {},
     "output_type": "display_data"
    },
    {
     "data": {
      "text/html": [
       "<pre>Parsing completed. Parsed 20 lines in 0.217142 secs.</pre>"
      ],
      "text/plain": [
       "Parsing completed. Parsed 20 lines in 0.217142 secs."
      ]
     },
     "metadata": {},
     "output_type": "display_data"
    },
    {
     "name": "stdout",
     "output_type": "stream",
     "text": [
      "------------------------------------------------------\n",
      "Inferred types from first 100 line(s) of file as \n",
      "column_type_hints=[str,str,int,float,str,float,float,float,str,str,int,float,float,str,str,float,str,str,str]\n",
      "If parsing fails due to incorrect types, you can correct\n",
      "the inferred type list above and pass it to read_csv in\n",
      "the column_type_hints argument\n",
      "------------------------------------------------------\n"
     ]
    },
    {
     "data": {
      "text/html": [
       "<pre>Finished parsing file /home/linux/Documents/coursera/machine.learning.regression/thermodynamics.purple.csv</pre>"
      ],
      "text/plain": [
       "Finished parsing file /home/linux/Documents/coursera/machine.learning.regression/thermodynamics.purple.csv"
      ]
     },
     "metadata": {},
     "output_type": "display_data"
    },
    {
     "data": {
      "text/html": [
       "<pre>Parsing completed. Parsed 20 lines in 0.04541 secs.</pre>"
      ],
      "text/plain": [
       "Parsing completed. Parsed 20 lines in 0.04541 secs."
      ]
     },
     "metadata": {},
     "output_type": "display_data"
    },
    {
     "data": {
      "text/html": [
       "<pre>Finished parsing file /home/linux/Documents/coursera/machine.learning.regression/thermodynamics.purple.2.csv</pre>"
      ],
      "text/plain": [
       "Finished parsing file /home/linux/Documents/coursera/machine.learning.regression/thermodynamics.purple.2.csv"
      ]
     },
     "metadata": {},
     "output_type": "display_data"
    },
    {
     "data": {
      "text/html": [
       "<pre>Parsing completed. Parsed 23 lines in 0.074169 secs.</pre>"
      ],
      "text/plain": [
       "Parsing completed. Parsed 23 lines in 0.074169 secs."
      ]
     },
     "metadata": {},
     "output_type": "display_data"
    },
    {
     "name": "stdout",
     "output_type": "stream",
     "text": [
      "------------------------------------------------------\n",
      "Inferred types from first 100 line(s) of file as \n",
      "column_type_hints=[str,str,int,float,str,float,float,float,str,str,int,float,float,str,str,float,str,str,str,str,float,str,str,str,str]\n",
      "If parsing fails due to incorrect types, you can correct\n",
      "the inferred type list above and pass it to read_csv in\n",
      "the column_type_hints argument\n",
      "------------------------------------------------------\n"
     ]
    },
    {
     "data": {
      "text/html": [
       "<pre>Read 23 lines. Lines per second: 333.493</pre>"
      ],
      "text/plain": [
       "Read 23 lines. Lines per second: 333.493"
      ]
     },
     "metadata": {},
     "output_type": "display_data"
    },
    {
     "data": {
      "text/html": [
       "<pre>Finished parsing file /home/linux/Documents/coursera/machine.learning.regression/thermodynamics.purple.2.csv</pre>"
      ],
      "text/plain": [
       "Finished parsing file /home/linux/Documents/coursera/machine.learning.regression/thermodynamics.purple.2.csv"
      ]
     },
     "metadata": {},
     "output_type": "display_data"
    },
    {
     "data": {
      "text/html": [
       "<pre>Parsing completed. Parsed 23 lines in 0.069977 secs.</pre>"
      ],
      "text/plain": [
       "Parsing completed. Parsed 23 lines in 0.069977 secs."
      ]
     },
     "metadata": {},
     "output_type": "display_data"
    },
    {
     "data": {
      "text/html": [
       "<pre>Linear regression:</pre>"
      ],
      "text/plain": [
       "Linear regression:"
      ]
     },
     "metadata": {},
     "output_type": "display_data"
    },
    {
     "data": {
      "text/html": [
       "<pre>--------------------------------------------------------</pre>"
      ],
      "text/plain": [
       "--------------------------------------------------------"
      ]
     },
     "metadata": {},
     "output_type": "display_data"
    },
    {
     "data": {
      "text/html": [
       "<pre>Number of examples          : 29</pre>"
      ],
      "text/plain": [
       "Number of examples          : 29"
      ]
     },
     "metadata": {},
     "output_type": "display_data"
    },
    {
     "data": {
      "text/html": [
       "<pre>Number of features          : 2</pre>"
      ],
      "text/plain": [
       "Number of features          : 2"
      ]
     },
     "metadata": {},
     "output_type": "display_data"
    },
    {
     "data": {
      "text/html": [
       "<pre>Number of unpacked features : 2</pre>"
      ],
      "text/plain": [
       "Number of unpacked features : 2"
      ]
     },
     "metadata": {},
     "output_type": "display_data"
    },
    {
     "data": {
      "text/html": [
       "<pre>Number of coefficients    : 3</pre>"
      ],
      "text/plain": [
       "Number of coefficients    : 3"
      ]
     },
     "metadata": {},
     "output_type": "display_data"
    },
    {
     "data": {
      "text/html": [
       "<pre>Starting Newton Method</pre>"
      ],
      "text/plain": [
       "Starting Newton Method"
      ]
     },
     "metadata": {},
     "output_type": "display_data"
    },
    {
     "data": {
      "text/html": [
       "<pre>--------------------------------------------------------</pre>"
      ],
      "text/plain": [
       "--------------------------------------------------------"
      ]
     },
     "metadata": {},
     "output_type": "display_data"
    },
    {
     "data": {
      "text/html": [
       "<pre>+-----------+----------+--------------+--------------------+----------------------+---------------+-----------------+</pre>"
      ],
      "text/plain": [
       "+-----------+----------+--------------+--------------------+----------------------+---------------+-----------------+"
      ]
     },
     "metadata": {},
     "output_type": "display_data"
    },
    {
     "data": {
      "text/html": [
       "<pre>| Iteration | Passes   | Elapsed Time | Training-max_error | Validation-max_error | Training-rmse | Validation-rmse |</pre>"
      ],
      "text/plain": [
       "| Iteration | Passes   | Elapsed Time | Training-max_error | Validation-max_error | Training-rmse | Validation-rmse |"
      ]
     },
     "metadata": {},
     "output_type": "display_data"
    },
    {
     "data": {
      "text/html": [
       "<pre>+-----------+----------+--------------+--------------------+----------------------+---------------+-----------------+</pre>"
      ],
      "text/plain": [
       "+-----------+----------+--------------+--------------------+----------------------+---------------+-----------------+"
      ]
     },
     "metadata": {},
     "output_type": "display_data"
    },
    {
     "data": {
      "text/html": [
       "<pre>| 1         | 2        | 1.006212     | 1.441538           | 0.671429             | 0.701591      | 0.456438        |</pre>"
      ],
      "text/plain": [
       "| 1         | 2        | 1.006212     | 1.441538           | 0.671429             | 0.701591      | 0.456438        |"
      ]
     },
     "metadata": {},
     "output_type": "display_data"
    },
    {
     "data": {
      "text/html": [
       "<pre>+-----------+----------+--------------+--------------------+----------------------+---------------+-----------------+</pre>"
      ],
      "text/plain": [
       "+-----------+----------+--------------+--------------------+----------------------+---------------+-----------------+"
      ]
     },
     "metadata": {},
     "output_type": "display_data"
    },
    {
     "data": {
      "text/html": [
       "<pre>SUCCESS: Optimal solution found.</pre>"
      ],
      "text/plain": [
       "SUCCESS: Optimal solution found."
      ]
     },
     "metadata": {},
     "output_type": "display_data"
    },
    {
     "data": {
      "text/html": [
       "<pre></pre>"
      ],
      "text/plain": []
     },
     "metadata": {},
     "output_type": "display_data"
    },
    {
     "data": {
      "text/html": [
       "<pre>Linear regression:</pre>"
      ],
      "text/plain": [
       "Linear regression:"
      ]
     },
     "metadata": {},
     "output_type": "display_data"
    },
    {
     "data": {
      "text/html": [
       "<pre>--------------------------------------------------------</pre>"
      ],
      "text/plain": [
       "--------------------------------------------------------"
      ]
     },
     "metadata": {},
     "output_type": "display_data"
    },
    {
     "data": {
      "text/html": [
       "<pre>Number of examples          : 18</pre>"
      ],
      "text/plain": [
       "Number of examples          : 18"
      ]
     },
     "metadata": {},
     "output_type": "display_data"
    },
    {
     "data": {
      "text/html": [
       "<pre>Number of features          : 2</pre>"
      ],
      "text/plain": [
       "Number of features          : 2"
      ]
     },
     "metadata": {},
     "output_type": "display_data"
    },
    {
     "data": {
      "text/html": [
       "<pre>Number of unpacked features : 2</pre>"
      ],
      "text/plain": [
       "Number of unpacked features : 2"
      ]
     },
     "metadata": {},
     "output_type": "display_data"
    },
    {
     "data": {
      "text/html": [
       "<pre>Number of coefficients    : 3</pre>"
      ],
      "text/plain": [
       "Number of coefficients    : 3"
      ]
     },
     "metadata": {},
     "output_type": "display_data"
    },
    {
     "data": {
      "text/html": [
       "<pre>Starting Newton Method</pre>"
      ],
      "text/plain": [
       "Starting Newton Method"
      ]
     },
     "metadata": {},
     "output_type": "display_data"
    },
    {
     "data": {
      "text/html": [
       "<pre>--------------------------------------------------------</pre>"
      ],
      "text/plain": [
       "--------------------------------------------------------"
      ]
     },
     "metadata": {},
     "output_type": "display_data"
    },
    {
     "data": {
      "text/html": [
       "<pre>+-----------+----------+--------------+--------------------+----------------------+---------------+-----------------+</pre>"
      ],
      "text/plain": [
       "+-----------+----------+--------------+--------------------+----------------------+---------------+-----------------+"
      ]
     },
     "metadata": {},
     "output_type": "display_data"
    },
    {
     "data": {
      "text/html": [
       "<pre>| Iteration | Passes   | Elapsed Time | Training-max_error | Validation-max_error | Training-rmse | Validation-rmse |</pre>"
      ],
      "text/plain": [
       "| Iteration | Passes   | Elapsed Time | Training-max_error | Validation-max_error | Training-rmse | Validation-rmse |"
      ]
     },
     "metadata": {},
     "output_type": "display_data"
    },
    {
     "data": {
      "text/html": [
       "<pre>+-----------+----------+--------------+--------------------+----------------------+---------------+-----------------+</pre>"
      ],
      "text/plain": [
       "+-----------+----------+--------------+--------------------+----------------------+---------------+-----------------+"
      ]
     },
     "metadata": {},
     "output_type": "display_data"
    },
    {
     "data": {
      "text/html": [
       "<pre>| 1         | 2        | 0.000501     | 1.336443           | 0.381453             | 0.697529      | 0.355239        |</pre>"
      ],
      "text/plain": [
       "| 1         | 2        | 0.000501     | 1.336443           | 0.381453             | 0.697529      | 0.355239        |"
      ]
     },
     "metadata": {},
     "output_type": "display_data"
    },
    {
     "data": {
      "text/html": [
       "<pre>+-----------+----------+--------------+--------------------+----------------------+---------------+-----------------+</pre>"
      ],
      "text/plain": [
       "+-----------+----------+--------------+--------------------+----------------------+---------------+-----------------+"
      ]
     },
     "metadata": {},
     "output_type": "display_data"
    },
    {
     "data": {
      "text/html": [
       "<pre>SUCCESS: Optimal solution found.</pre>"
      ],
      "text/plain": [
       "SUCCESS: Optimal solution found."
      ]
     },
     "metadata": {},
     "output_type": "display_data"
    },
    {
     "data": {
      "text/html": [
       "<pre></pre>"
      ],
      "text/plain": []
     },
     "metadata": {},
     "output_type": "display_data"
    },
    {
     "data": {
      "text/html": [
       "<pre>Linear regression:</pre>"
      ],
      "text/plain": [
       "Linear regression:"
      ]
     },
     "metadata": {},
     "output_type": "display_data"
    },
    {
     "data": {
      "text/html": [
       "<pre>--------------------------------------------------------</pre>"
      ],
      "text/plain": [
       "--------------------------------------------------------"
      ]
     },
     "metadata": {},
     "output_type": "display_data"
    },
    {
     "data": {
      "text/html": [
       "<pre>Number of examples          : 21</pre>"
      ],
      "text/plain": [
       "Number of examples          : 21"
      ]
     },
     "metadata": {},
     "output_type": "display_data"
    },
    {
     "data": {
      "text/html": [
       "<pre>Number of features          : 2</pre>"
      ],
      "text/plain": [
       "Number of features          : 2"
      ]
     },
     "metadata": {},
     "output_type": "display_data"
    },
    {
     "data": {
      "text/html": [
       "<pre>Number of unpacked features : 2</pre>"
      ],
      "text/plain": [
       "Number of unpacked features : 2"
      ]
     },
     "metadata": {},
     "output_type": "display_data"
    },
    {
     "data": {
      "text/html": [
       "<pre>Number of coefficients    : 3</pre>"
      ],
      "text/plain": [
       "Number of coefficients    : 3"
      ]
     },
     "metadata": {},
     "output_type": "display_data"
    },
    {
     "data": {
      "text/html": [
       "<pre>Starting Newton Method</pre>"
      ],
      "text/plain": [
       "Starting Newton Method"
      ]
     },
     "metadata": {},
     "output_type": "display_data"
    },
    {
     "data": {
      "text/html": [
       "<pre>--------------------------------------------------------</pre>"
      ],
      "text/plain": [
       "--------------------------------------------------------"
      ]
     },
     "metadata": {},
     "output_type": "display_data"
    },
    {
     "data": {
      "text/html": [
       "<pre>+-----------+----------+--------------+--------------------+----------------------+---------------+-----------------+</pre>"
      ],
      "text/plain": [
       "+-----------+----------+--------------+--------------------+----------------------+---------------+-----------------+"
      ]
     },
     "metadata": {},
     "output_type": "display_data"
    },
    {
     "data": {
      "text/html": [
       "<pre>| Iteration | Passes   | Elapsed Time | Training-max_error | Validation-max_error | Training-rmse | Validation-rmse |</pre>"
      ],
      "text/plain": [
       "| Iteration | Passes   | Elapsed Time | Training-max_error | Validation-max_error | Training-rmse | Validation-rmse |"
      ]
     },
     "metadata": {},
     "output_type": "display_data"
    },
    {
     "data": {
      "text/html": [
       "<pre>+-----------+----------+--------------+--------------------+----------------------+---------------+-----------------+</pre>"
      ],
      "text/plain": [
       "+-----------+----------+--------------+--------------------+----------------------+---------------+-----------------+"
      ]
     },
     "metadata": {},
     "output_type": "display_data"
    },
    {
     "data": {
      "text/html": [
       "<pre>| 1         | 2        | 0.000297     | 2.616974           | 0.732429             | 0.897009      | 0.518906        |</pre>"
      ],
      "text/plain": [
       "| 1         | 2        | 0.000297     | 2.616974           | 0.732429             | 0.897009      | 0.518906        |"
      ]
     },
     "metadata": {},
     "output_type": "display_data"
    },
    {
     "data": {
      "text/html": [
       "<pre>+-----------+----------+--------------+--------------------+----------------------+---------------+-----------------+</pre>"
      ],
      "text/plain": [
       "+-----------+----------+--------------+--------------------+----------------------+---------------+-----------------+"
      ]
     },
     "metadata": {},
     "output_type": "display_data"
    },
    {
     "data": {
      "text/html": [
       "<pre>SUCCESS: Optimal solution found.</pre>"
      ],
      "text/plain": [
       "SUCCESS: Optimal solution found."
      ]
     },
     "metadata": {},
     "output_type": "display_data"
    },
    {
     "data": {
      "text/html": [
       "<pre></pre>"
      ],
      "text/plain": []
     },
     "metadata": {},
     "output_type": "display_data"
    }
   ],
   "source": [
    "import graphlab\n",
    "import numpy as np\n",
    "\n",
    "# read files\n",
    "red_data = graphlab.SFrame.read_csv('thermodynamics.red.csv')\n",
    "\n",
    "purple_data = graphlab.SFrame.read_csv('thermodynamics.purple.csv')\n",
    "\n",
    "purple_data2 = graphlab.SFrame.read_csv('thermodynamics.purple.2.csv')\n",
    "\n",
    "# convenient functions\n",
    "squared = lambda x: x*x\n",
    "\n",
    "def get_residual_sum_of_squares(model, data, outcome):\n",
    "    return sum(map(squared, outcome - model.predict(data)))\n",
    "\n",
    "# split data\n",
    "red_train_data, red_test_data = red_data.random_split(.8,seed=0)\n",
    "purple_train_data, purple_test_data = purple_data.random_split(.8,seed=0)\n",
    "purple_train_data2, purple_test_data2 = purple_data2.random_split(.8,seed=0)\n",
    "\n",
    "# set up features\n",
    "thermo_features = ['Room temperature', 'Start temperature']\n",
    "\n",
    "# train models\n",
    "red_model = graphlab.linear_regression.create(red_train_data, target = 'End temperature', features = thermo_features, \n",
    "                                                  validation_set = red_test_data)\n",
    "purple_model = graphlab.linear_regression.create(purple_train_data, target = 'End temperature', features = thermo_features, \n",
    "                                                  validation_set = purple_test_data)\n",
    "\n",
    "purple_model2 = graphlab.linear_regression.create(purple_train_data2, target = 'End temperature', features = thermo_features, \n",
    "                                                  validation_set = purple_test_data2)"
   ]
  },
  {
   "cell_type": "markdown",
   "metadata": {},
   "source": [
    "# Inspect Basic Model Coefficients"
   ]
  },
  {
   "cell_type": "code",
   "execution_count": 3,
   "metadata": {},
   "outputs": [
    {
     "name": "stdout",
     "output_type": "stream",
     "text": [
      "+-------------------+-------+----------------+-----------------+\n",
      "|        name       | index |     value      |      stderr     |\n",
      "+-------------------+-------+----------------+-----------------+\n",
      "|    (intercept)    |  None | 5.87399007861  |  3.42799076059  |\n",
      "|  Room temperature |  None | 0.305581895198 |  0.163649625722 |\n",
      "| Start temperature |  None | 0.66606805281  | 0.0323260449324 |\n",
      "+-------------------+-------+----------------+-----------------+\n",
      "[3 rows x 4 columns]\n",
      " +-------------------+-------+----------------+-----------------+\n",
      "|        name       | index |     value      |      stderr     |\n",
      "+-------------------+-------+----------------+-----------------+\n",
      "|    (intercept)    |  None | 16.9435004253  |  6.39255614494  |\n",
      "|  Room temperature |  None | 0.442315493843 |  0.25605488031  |\n",
      "| Start temperature |  None | 0.474393946704 | 0.0596230848109 |\n",
      "+-------------------+-------+----------------+-----------------+\n",
      "[3 rows x 4 columns]\n",
      " +-------------------+-------+----------------+-----------------+\n",
      "|        name       | index |     value      |      stderr     |\n",
      "+-------------------+-------+----------------+-----------------+\n",
      "|    (intercept)    |  None | 12.7169247083  |  7.78022988676  |\n",
      "|  Room temperature |  None | 0.501370320167 |  0.319599322531 |\n",
      "| Start temperature |  None | 0.519882192837 | 0.0686898404794 |\n",
      "+-------------------+-------+----------------+-----------------+\n",
      "[3 rows x 4 columns]\n",
      "\n"
     ]
    }
   ],
   "source": [
    "red_weight_summary = red_model.get(\"coefficients\")\n",
    "purple_weight_summary = purple_model.get(\"coefficients\")\n",
    "purple_weight_summary2 = purple_model2.get(\"coefficients\")\n",
    "#purple_weight_summary_sub = purple_model_sub.get(\"coefficients\")\n",
    "\n",
    "\n",
    "rss_red = get_residual_sum_of_squares(red_model, red_test_data, red_test_data['End temperature'])\n",
    "rss_purple = get_residual_sum_of_squares(purple_model, purple_test_data, purple_test_data['End temperature'])\n",
    "rss_purple2 = get_residual_sum_of_squares(purple_model2, purple_test_data2, purple_test_data2['End temperature'])\n",
    "\n",
    "print red_weight_summary, purple_weight_summary, purple_weight_summary2"
   ]
  },
  {
   "cell_type": "markdown",
   "metadata": {},
   "source": [
    "# Use Basic Model Coefficients for Predictions\n",
    "- Set room temperature to 20 and start temperature to 60, 70, and 75"
   ]
  },
  {
   "cell_type": "markdown",
   "metadata": {},
   "source": [
    "## Red Model Predictions"
   ]
  },
  {
   "cell_type": "code",
   "execution_count": 27,
   "metadata": {},
   "outputs": [
    {
     "name": "stdout",
     "output_type": "stream",
     "text": [
      " 5.87 + 0.31 x room_temperature + 0.67 x starting_temperature\n",
      "prediction for red @ 60 -> 51.95\n",
      "prediction for red @ 70 -> 58.61\n",
      "prediction for red @ 75 -> 61.94\n"
     ]
    }
   ],
   "source": [
    "r_w0 = red_weight_summary[0]['value']\n",
    "r_w1 = red_weight_summary[1]['value']\n",
    "r_w2 = red_weight_summary[2]['value']\n",
    "\n",
    "print '%5.2f' % r_w0, '+', '%4.2f' % r_w1, 'x room_temperature', '+', '%4.2f' % r_w2, 'x starting_temperature'\n",
    "\n",
    "print 'prediction for red @ 60 ->', '%4.2f' % (r_w0 + r_w1*20 + r_w2*60)\n",
    "\n",
    "print 'prediction for red @ 70 ->', '%4.2f' % (r_w0 + r_w1*20 + r_w2*70)\n",
    "\n",
    "print 'prediction for red @ 75 ->', '%4.2f' % (r_w0 + r_w1*20 + r_w2*75)"
   ]
  },
  {
   "cell_type": "markdown",
   "metadata": {},
   "source": [
    "## Purple Model Predictions"
   ]
  },
  {
   "cell_type": "code",
   "execution_count": 29,
   "metadata": {},
   "outputs": [
    {
     "name": "stdout",
     "output_type": "stream",
     "text": [
      "16.94 + 0.44 x room_temperature + 0.47 x starting_temperature\n",
      "prediction for purple @ 60 -> 54.25\n",
      "prediction for purple @ 70 -> 59.00\n",
      "prediction for purple @ 75 -> 61.37\n",
      "13.96 + 0.64 x room_temperature + 0.22 x starting_temperature + 0.33 x (starting_temperature - room_temperature) prediction for purple @ 60 -> 53.43\n",
      "prediction for purple @ 70 -> 58.98\n",
      "prediction for purple @ 75 -> 61.76\n"
     ]
    }
   ],
   "source": [
    "p_w0 = purple_weight_summary[0]['value']\n",
    "p_w1 = purple_weight_summary[1]['value']\n",
    "p_w2 = purple_weight_summary[2]['value']\n",
    "\n",
    "print '%5.2f' % p_w0, '+', '%4.2f' % p_w1, 'x room_temperature', '+', '%4.2f' % p_w2, 'x starting_temperature'\n",
    "\n",
    "print 'prediction for purple @ 60 ->', '%4.2f' % (p_w0 + p_w1*20 + p_w2*60)\n",
    "\n",
    "print 'prediction for purple @ 70 ->', '%4.2f' % (p_w0 + p_w1*20 + p_w2*70)\n",
    "\n",
    "print 'prediction for purple @ 75 ->', '%4.2f' % (p_w0 + p_w1*20 + p_w2*75)\n",
    "\n",
    "\n",
    "p_w0 = purple_weight_summary_sub[0]['value']\n",
    "p_w1 = purple_weight_summary_sub[1]['value']\n",
    "p_w2 = purple_weight_summary_sub[2]['value']\n",
    "p_w3 = purple_weight_summary_sub[3]['value']\n",
    "\n",
    "print '%5.2f' % p_w0, '+', '%4.2f' % p_w1, 'x room_temperature', '+', '%4.2f' % p_w2, 'x starting_temperature', '+', '%4.2f' % p_w3, 'x (starting_temperature - room_temperature)',\n",
    "\n",
    "print 'prediction for purple @ 60 ->', '%4.2f' % (p_w0 + p_w1*20 + p_w2*60 + p_w3*(60-20))\n",
    "\n",
    "print 'prediction for purple @ 70 ->', '%4.2f' % (p_w0 + p_w1*20 + p_w2*70 + p_w3*(70-20))\n",
    "\n",
    "print 'prediction for purple @ 75 ->', '%4.2f' % (p_w0 + p_w1*20 + p_w2*75 + p_w3*(75-20))"
   ]
  },
  {
   "cell_type": "code",
   "execution_count": 4,
   "metadata": {},
   "outputs": [
    {
     "name": "stdout",
     "output_type": "stream",
     "text": [
      "12.72 + 0.50 x room_temperature + 0.52 x starting_temperature\n",
      "prediction for purple @ 60 -> 53.94\n",
      "prediction for purple @ 70 -> 59.14\n",
      "prediction for purple @ 75 -> 61.74\n"
     ]
    }
   ],
   "source": [
    "p2_w0 = purple_weight_summary2[0]['value']\n",
    "p2_w1 = purple_weight_summary2[1]['value']\n",
    "p2_w2 = purple_weight_summary2[2]['value']\n",
    "\n",
    "print '%5.2f' % p2_w0, '+', '%4.2f' % p2_w1, 'x room_temperature', '+', '%4.2f' % p2_w2, 'x starting_temperature'\n",
    "\n",
    "print 'prediction for purple @ 60 ->', '%4.2f' % (p2_w0 + p2_w1*20 + p2_w2*60)\n",
    "\n",
    "print 'prediction for purple @ 70 ->', '%4.2f' % (p2_w0 + p2_w1*20 + p2_w2*70)\n",
    "\n",
    "print 'prediction for purple @ 75 ->', '%4.2f' % (p2_w0 + p2_w1*20 + p2_w2*75)\n",
    "\n",
    "\n",
    "#p_w0 = purple_weight_summary_sub[0]['value']\n",
    "#p_w1 = purple_weight_summary_sub[1]['value']\n",
    "#p_w2 = purple_weight_summary_sub[2]['value']\n",
    "#p_w3 = purple_weight_summary_sub[3]['value']\n",
    "\n",
    "#print '%5.2f' % p_w0, '+', '%4.2f' % p_w1, 'x room_temperature', '+', '%4.2f' % p_w2, 'x starting_temperature', '+', '%4.2f' % p_w3, 'x (starting_temperature - room_temperature)',\n",
    "\n",
    "#print 'prediction for purple @ 60 ->', '%4.2f' % (p_w0 + p_w1*20 + p_w2*60 + p_w3*(60-20))\n",
    "\n",
    "#print 'prediction for purple @ 70 ->', '%4.2f' % (p_w0 + p_w1*20 + p_w2*70 + p_w3*(70-20))\n",
    "\n",
    "#print 'prediction for purple @ 75 ->', '%4.2f' % (p_w0 + p_w1*20 + p_w2*75 + p_w3*(75-20))"
   ]
  },
  {
   "cell_type": "markdown",
   "metadata": {},
   "source": [
    "# Train Three Different New Models for Red and Purple Devices\n",
    "\n",
    "## Red Device\n",
    "- model red_model_sub with features, thermo_feature_sub; add a new feature start_sub_rm = Start temperature - Room temperature\n",
    "- model red_model_ln with features, thermo_feature_ln; thermo_feature_ln: add a new feature ln_start = ln(Start temperature)\n",
    "- model red_model_ln_sub with features, thermo_feature_ln_sub; thermo_feature_ln_sub: add a new feature ln_start_sub_rm = ln(Start temperature - Room temperature)"
   ]
  },
  {
   "cell_type": "code",
   "execution_count": 5,
   "metadata": {},
   "outputs": [
    {
     "data": {
      "text/html": [
       "<pre>Linear regression:</pre>"
      ],
      "text/plain": [
       "Linear regression:"
      ]
     },
     "metadata": {},
     "output_type": "display_data"
    },
    {
     "data": {
      "text/html": [
       "<pre>--------------------------------------------------------</pre>"
      ],
      "text/plain": [
       "--------------------------------------------------------"
      ]
     },
     "metadata": {},
     "output_type": "display_data"
    },
    {
     "data": {
      "text/html": [
       "<pre>Number of examples          : 29</pre>"
      ],
      "text/plain": [
       "Number of examples          : 29"
      ]
     },
     "metadata": {},
     "output_type": "display_data"
    },
    {
     "data": {
      "text/html": [
       "<pre>Number of features          : 3</pre>"
      ],
      "text/plain": [
       "Number of features          : 3"
      ]
     },
     "metadata": {},
     "output_type": "display_data"
    },
    {
     "data": {
      "text/html": [
       "<pre>Number of unpacked features : 3</pre>"
      ],
      "text/plain": [
       "Number of unpacked features : 3"
      ]
     },
     "metadata": {},
     "output_type": "display_data"
    },
    {
     "data": {
      "text/html": [
       "<pre>Number of coefficients    : 4</pre>"
      ],
      "text/plain": [
       "Number of coefficients    : 4"
      ]
     },
     "metadata": {},
     "output_type": "display_data"
    },
    {
     "data": {
      "text/html": [
       "<pre>Starting Newton Method</pre>"
      ],
      "text/plain": [
       "Starting Newton Method"
      ]
     },
     "metadata": {},
     "output_type": "display_data"
    },
    {
     "data": {
      "text/html": [
       "<pre>--------------------------------------------------------</pre>"
      ],
      "text/plain": [
       "--------------------------------------------------------"
      ]
     },
     "metadata": {},
     "output_type": "display_data"
    },
    {
     "data": {
      "text/html": [
       "<pre>+-----------+----------+--------------+--------------------+----------------------+---------------+-----------------+</pre>"
      ],
      "text/plain": [
       "+-----------+----------+--------------+--------------------+----------------------+---------------+-----------------+"
      ]
     },
     "metadata": {},
     "output_type": "display_data"
    },
    {
     "data": {
      "text/html": [
       "<pre>| Iteration | Passes   | Elapsed Time | Training-max_error | Validation-max_error | Training-rmse | Validation-rmse |</pre>"
      ],
      "text/plain": [
       "| Iteration | Passes   | Elapsed Time | Training-max_error | Validation-max_error | Training-rmse | Validation-rmse |"
      ]
     },
     "metadata": {},
     "output_type": "display_data"
    },
    {
     "data": {
      "text/html": [
       "<pre>+-----------+----------+--------------+--------------------+----------------------+---------------+-----------------+</pre>"
      ],
      "text/plain": [
       "+-----------+----------+--------------+--------------------+----------------------+---------------+-----------------+"
      ]
     },
     "metadata": {},
     "output_type": "display_data"
    },
    {
     "data": {
      "text/html": [
       "<pre>| 1         | 2        | 0.001196     | 1.748989           | 0.831594             | 0.664379      | 0.459101        |</pre>"
      ],
      "text/plain": [
       "| 1         | 2        | 0.001196     | 1.748989           | 0.831594             | 0.664379      | 0.459101        |"
      ]
     },
     "metadata": {},
     "output_type": "display_data"
    },
    {
     "data": {
      "text/html": [
       "<pre>+-----------+----------+--------------+--------------------+----------------------+---------------+-----------------+</pre>"
      ],
      "text/plain": [
       "+-----------+----------+--------------+--------------------+----------------------+---------------+-----------------+"
      ]
     },
     "metadata": {},
     "output_type": "display_data"
    },
    {
     "data": {
      "text/html": [
       "<pre>SUCCESS: Optimal solution found.</pre>"
      ],
      "text/plain": [
       "SUCCESS: Optimal solution found."
      ]
     },
     "metadata": {},
     "output_type": "display_data"
    },
    {
     "data": {
      "text/html": [
       "<pre></pre>"
      ],
      "text/plain": []
     },
     "metadata": {},
     "output_type": "display_data"
    },
    {
     "data": {
      "text/html": [
       "<pre>Linear regression:</pre>"
      ],
      "text/plain": [
       "Linear regression:"
      ]
     },
     "metadata": {},
     "output_type": "display_data"
    },
    {
     "data": {
      "text/html": [
       "<pre>--------------------------------------------------------</pre>"
      ],
      "text/plain": [
       "--------------------------------------------------------"
      ]
     },
     "metadata": {},
     "output_type": "display_data"
    },
    {
     "data": {
      "text/html": [
       "<pre>Number of examples          : 29</pre>"
      ],
      "text/plain": [
       "Number of examples          : 29"
      ]
     },
     "metadata": {},
     "output_type": "display_data"
    },
    {
     "data": {
      "text/html": [
       "<pre>Number of features          : 3</pre>"
      ],
      "text/plain": [
       "Number of features          : 3"
      ]
     },
     "metadata": {},
     "output_type": "display_data"
    },
    {
     "data": {
      "text/html": [
       "<pre>Number of unpacked features : 3</pre>"
      ],
      "text/plain": [
       "Number of unpacked features : 3"
      ]
     },
     "metadata": {},
     "output_type": "display_data"
    },
    {
     "data": {
      "text/html": [
       "<pre>Number of coefficients    : 4</pre>"
      ],
      "text/plain": [
       "Number of coefficients    : 4"
      ]
     },
     "metadata": {},
     "output_type": "display_data"
    },
    {
     "data": {
      "text/html": [
       "<pre>Starting Newton Method</pre>"
      ],
      "text/plain": [
       "Starting Newton Method"
      ]
     },
     "metadata": {},
     "output_type": "display_data"
    },
    {
     "data": {
      "text/html": [
       "<pre>--------------------------------------------------------</pre>"
      ],
      "text/plain": [
       "--------------------------------------------------------"
      ]
     },
     "metadata": {},
     "output_type": "display_data"
    },
    {
     "data": {
      "text/html": [
       "<pre>+-----------+----------+--------------+--------------------+----------------------+---------------+-----------------+</pre>"
      ],
      "text/plain": [
       "+-----------+----------+--------------+--------------------+----------------------+---------------+-----------------+"
      ]
     },
     "metadata": {},
     "output_type": "display_data"
    },
    {
     "data": {
      "text/html": [
       "<pre>| Iteration | Passes   | Elapsed Time | Training-max_error | Validation-max_error | Training-rmse | Validation-rmse |</pre>"
      ],
      "text/plain": [
       "| Iteration | Passes   | Elapsed Time | Training-max_error | Validation-max_error | Training-rmse | Validation-rmse |"
      ]
     },
     "metadata": {},
     "output_type": "display_data"
    },
    {
     "data": {
      "text/html": [
       "<pre>+-----------+----------+--------------+--------------------+----------------------+---------------+-----------------+</pre>"
      ],
      "text/plain": [
       "+-----------+----------+--------------+--------------------+----------------------+---------------+-----------------+"
      ]
     },
     "metadata": {},
     "output_type": "display_data"
    },
    {
     "data": {
      "text/html": [
       "<pre>| 1         | 2        | 0.001651     | 1.460286           | 0.675728             | 0.697050      | 0.456376        |</pre>"
      ],
      "text/plain": [
       "| 1         | 2        | 0.001651     | 1.460286           | 0.675728             | 0.697050      | 0.456376        |"
      ]
     },
     "metadata": {},
     "output_type": "display_data"
    },
    {
     "data": {
      "text/html": [
       "<pre>+-----------+----------+--------------+--------------------+----------------------+---------------+-----------------+</pre>"
      ],
      "text/plain": [
       "+-----------+----------+--------------+--------------------+----------------------+---------------+-----------------+"
      ]
     },
     "metadata": {},
     "output_type": "display_data"
    },
    {
     "data": {
      "text/html": [
       "<pre>SUCCESS: Optimal solution found.</pre>"
      ],
      "text/plain": [
       "SUCCESS: Optimal solution found."
      ]
     },
     "metadata": {},
     "output_type": "display_data"
    },
    {
     "data": {
      "text/html": [
       "<pre></pre>"
      ],
      "text/plain": []
     },
     "metadata": {},
     "output_type": "display_data"
    },
    {
     "data": {
      "text/html": [
       "<pre>Linear regression:</pre>"
      ],
      "text/plain": [
       "Linear regression:"
      ]
     },
     "metadata": {},
     "output_type": "display_data"
    },
    {
     "data": {
      "text/html": [
       "<pre>--------------------------------------------------------</pre>"
      ],
      "text/plain": [
       "--------------------------------------------------------"
      ]
     },
     "metadata": {},
     "output_type": "display_data"
    },
    {
     "data": {
      "text/html": [
       "<pre>Number of examples          : 29</pre>"
      ],
      "text/plain": [
       "Number of examples          : 29"
      ]
     },
     "metadata": {},
     "output_type": "display_data"
    },
    {
     "data": {
      "text/html": [
       "<pre>Number of features          : 3</pre>"
      ],
      "text/plain": [
       "Number of features          : 3"
      ]
     },
     "metadata": {},
     "output_type": "display_data"
    },
    {
     "data": {
      "text/html": [
       "<pre>Number of unpacked features : 3</pre>"
      ],
      "text/plain": [
       "Number of unpacked features : 3"
      ]
     },
     "metadata": {},
     "output_type": "display_data"
    },
    {
     "data": {
      "text/html": [
       "<pre>Number of coefficients    : 4</pre>"
      ],
      "text/plain": [
       "Number of coefficients    : 4"
      ]
     },
     "metadata": {},
     "output_type": "display_data"
    },
    {
     "data": {
      "text/html": [
       "<pre>Starting Newton Method</pre>"
      ],
      "text/plain": [
       "Starting Newton Method"
      ]
     },
     "metadata": {},
     "output_type": "display_data"
    }
   ],
   "source": [
    "red_train_data['start_sub_rm'] = map(lambda x, y: x-y, red_train_data['Start temperature'], red_train_data['Room temperature'])\n",
    "red_train_data['ln_start_sub_rm'] = map(lambda x, y: np.log(x-y), red_train_data['Start temperature'], red_train_data['Room temperature'])\n",
    "red_train_data['ln_start'] = map(lambda x: np.log(x), red_train_data['Start temperature'])\n",
    "\n",
    "\n",
    "red_test_data['start_sub_rm'] = map(lambda x, y: x-y, red_test_data['Start temperature'], red_test_data['Room temperature'])\n",
    "red_test_data['ln_start_sub_rm'] = map(lambda x, y: np.log(x-y), red_test_data['Start temperature'], red_test_data['Room temperature'])\n",
    "red_test_data['ln_start'] = map(lambda x: np.log(x), red_test_data['Start temperature'])\n",
    "\n",
    "thermo_features_sub = thermo_features + ['start_sub_rm']\n",
    "\n",
    "red_model_sub = graphlab.linear_regression.create(red_train_data, target = 'End temperature', features = thermo_features_sub, \n",
    "                                                  validation_set = red_test_data)\n",
    "\n",
    "rss_red_sub = get_residual_sum_of_squares(red_model_sub, red_test_data, red_test_data['End temperature'])\n",
    "\n",
    "thermo_features_ln = thermo_features + ['ln_start']\n",
    "\n",
    "red_model_ln = graphlab.linear_regression.create(red_train_data, target = 'End temperature', features = thermo_features_ln, \n",
    "                                                  validation_set = red_test_data)\n",
    "\n",
    "rss_red_ln = get_residual_sum_of_squares(red_model_ln, red_test_data, red_test_data['End temperature'])\n",
    "\n",
    "thermo_features_ln_sub = thermo_features + ['ln_start_sub_rm']\n",
    "\n",
    "red_model_ln_sub = graphlab.linear_regression.create(red_train_data, target = 'End temperature', features = thermo_features_ln_sub, \n",
    "                                                  validation_set = red_test_data)\n",
    "\n",
    "rss_red_ln_sub = get_residual_sum_of_squares(red_model_ln_sub, red_test_data, red_test_data['End temperature'])"
   ]
  },
  {
   "cell_type": "markdown",
   "metadata": {},
   "source": [
    "# Compare RSS for Red Device Models"
   ]
  },
  {
   "cell_type": "code",
   "execution_count": 6,
   "metadata": {},
   "outputs": [
    {
     "name": "stdout",
     "output_type": "stream",
     "text": [
      "0.83 0.84 0.83 0.83\n"
     ]
    },
    {
     "data": {
      "text/html": [
       "<pre>--------------------------------------------------------</pre>"
      ],
      "text/plain": [
       "--------------------------------------------------------"
      ]
     },
     "metadata": {},
     "output_type": "display_data"
    }
   ],
   "source": [
    "print '%4.2f' % rss_red, '%4.2f' % rss_red_sub, '%4.2f' % rss_red_ln, '%4.2f' % rss_red_ln_sub"
   ]
  },
  {
   "cell_type": "markdown",
   "metadata": {},
   "source": [
    "## Purple Device\n",
    "- model purple_model_sub with features, thermo_feature_sub; add a new feature start_sub_rm = Start temperature - Room temperature\n",
    "- model purple_model_ln with features, thermo_feature_ln; thermo_feature_ln: add a new feature ln_start = ln(Start temperature)\n",
    "- model purple_model_ln_sub with features, thermo_feature_ln_sub; thermo_feature_ln_sub: add a new feature ln_start_sub_rm = ln(Start temperature - Room temperature)"
   ]
  },
  {
   "cell_type": "code",
   "execution_count": 7,
   "metadata": {},
   "outputs": [
    {
     "data": {
      "text/html": [
       "<pre>+-----------+----------+--------------+--------------------+----------------------+---------------+-----------------+</pre>"
      ],
      "text/plain": [
       "+-----------+----------+--------------+--------------------+----------------------+---------------+-----------------+"
      ]
     },
     "metadata": {},
     "output_type": "display_data"
    },
    {
     "data": {
      "text/html": [
       "<pre>| Iteration | Passes   | Elapsed Time | Training-max_error | Validation-max_error | Training-rmse | Validation-rmse |</pre>"
      ],
      "text/plain": [
       "| Iteration | Passes   | Elapsed Time | Training-max_error | Validation-max_error | Training-rmse | Validation-rmse |"
      ]
     },
     "metadata": {},
     "output_type": "display_data"
    },
    {
     "data": {
      "text/html": [
       "<pre>+-----------+----------+--------------+--------------------+----------------------+---------------+-----------------+</pre>"
      ],
      "text/plain": [
       "+-----------+----------+--------------+--------------------+----------------------+---------------+-----------------+"
      ]
     },
     "metadata": {},
     "output_type": "display_data"
    },
    {
     "data": {
      "text/html": [
       "<pre>| 1         | 2        | 0.001532     | 1.500055           | 0.686725             | 0.691383      | 0.454809        |</pre>"
      ],
      "text/plain": [
       "| 1         | 2        | 0.001532     | 1.500055           | 0.686725             | 0.691383      | 0.454809        |"
      ]
     },
     "metadata": {},
     "output_type": "display_data"
    },
    {
     "data": {
      "text/html": [
       "<pre>+-----------+----------+--------------+--------------------+----------------------+---------------+-----------------+</pre>"
      ],
      "text/plain": [
       "+-----------+----------+--------------+--------------------+----------------------+---------------+-----------------+"
      ]
     },
     "metadata": {},
     "output_type": "display_data"
    },
    {
     "data": {
      "text/html": [
       "<pre>SUCCESS: Optimal solution found.</pre>"
      ],
      "text/plain": [
       "SUCCESS: Optimal solution found."
      ]
     },
     "metadata": {},
     "output_type": "display_data"
    },
    {
     "data": {
      "text/html": [
       "<pre></pre>"
      ],
      "text/plain": []
     },
     "metadata": {},
     "output_type": "display_data"
    },
    {
     "data": {
      "text/html": [
       "<pre>Linear regression:</pre>"
      ],
      "text/plain": [
       "Linear regression:"
      ]
     },
     "metadata": {},
     "output_type": "display_data"
    },
    {
     "data": {
      "text/html": [
       "<pre>--------------------------------------------------------</pre>"
      ],
      "text/plain": [
       "--------------------------------------------------------"
      ]
     },
     "metadata": {},
     "output_type": "display_data"
    },
    {
     "data": {
      "text/html": [
       "<pre>Number of examples          : 18</pre>"
      ],
      "text/plain": [
       "Number of examples          : 18"
      ]
     },
     "metadata": {},
     "output_type": "display_data"
    },
    {
     "data": {
      "text/html": [
       "<pre>Number of features          : 3</pre>"
      ],
      "text/plain": [
       "Number of features          : 3"
      ]
     },
     "metadata": {},
     "output_type": "display_data"
    },
    {
     "data": {
      "text/html": [
       "<pre>Number of unpacked features : 3</pre>"
      ],
      "text/plain": [
       "Number of unpacked features : 3"
      ]
     },
     "metadata": {},
     "output_type": "display_data"
    },
    {
     "data": {
      "text/html": [
       "<pre>Number of coefficients    : 4</pre>"
      ],
      "text/plain": [
       "Number of coefficients    : 4"
      ]
     },
     "metadata": {},
     "output_type": "display_data"
    },
    {
     "data": {
      "text/html": [
       "<pre>Starting Newton Method</pre>"
      ],
      "text/plain": [
       "Starting Newton Method"
      ]
     },
     "metadata": {},
     "output_type": "display_data"
    },
    {
     "data": {
      "text/html": [
       "<pre>--------------------------------------------------------</pre>"
      ],
      "text/plain": [
       "--------------------------------------------------------"
      ]
     },
     "metadata": {},
     "output_type": "display_data"
    },
    {
     "data": {
      "text/html": [
       "<pre>+-----------+----------+--------------+--------------------+----------------------+---------------+-----------------+</pre>"
      ],
      "text/plain": [
       "+-----------+----------+--------------+--------------------+----------------------+---------------+-----------------+"
      ]
     },
     "metadata": {},
     "output_type": "display_data"
    },
    {
     "data": {
      "text/html": [
       "<pre>| Iteration | Passes   | Elapsed Time | Training-max_error | Validation-max_error | Training-rmse | Validation-rmse |</pre>"
      ],
      "text/plain": [
       "| Iteration | Passes   | Elapsed Time | Training-max_error | Validation-max_error | Training-rmse | Validation-rmse |"
      ]
     },
     "metadata": {},
     "output_type": "display_data"
    },
    {
     "data": {
      "text/html": [
       "<pre>+-----------+----------+--------------+--------------------+----------------------+---------------+-----------------+</pre>"
      ],
      "text/plain": [
       "+-----------+----------+--------------+--------------------+----------------------+---------------+-----------------+"
      ]
     },
     "metadata": {},
     "output_type": "display_data"
    },
    {
     "data": {
      "text/html": [
       "<pre>| 1         | 2        | 0.000714     | 1.246576           | 0.519412             | 0.601683      | 0.420159        |</pre>"
      ],
      "text/plain": [
       "| 1         | 2        | 0.000714     | 1.246576           | 0.519412             | 0.601683      | 0.420159        |"
      ]
     },
     "metadata": {},
     "output_type": "display_data"
    },
    {
     "data": {
      "text/html": [
       "<pre>+-----------+----------+--------------+--------------------+----------------------+---------------+-----------------+</pre>"
      ],
      "text/plain": [
       "+-----------+----------+--------------+--------------------+----------------------+---------------+-----------------+"
      ]
     },
     "metadata": {},
     "output_type": "display_data"
    },
    {
     "data": {
      "text/html": [
       "<pre>SUCCESS: Optimal solution found.</pre>"
      ],
      "text/plain": [
       "SUCCESS: Optimal solution found."
      ]
     },
     "metadata": {},
     "output_type": "display_data"
    },
    {
     "data": {
      "text/html": [
       "<pre></pre>"
      ],
      "text/plain": []
     },
     "metadata": {},
     "output_type": "display_data"
    },
    {
     "data": {
      "text/html": [
       "<pre>Linear regression:</pre>"
      ],
      "text/plain": [
       "Linear regression:"
      ]
     },
     "metadata": {},
     "output_type": "display_data"
    },
    {
     "data": {
      "text/html": [
       "<pre>--------------------------------------------------------</pre>"
      ],
      "text/plain": [
       "--------------------------------------------------------"
      ]
     },
     "metadata": {},
     "output_type": "display_data"
    },
    {
     "data": {
      "text/html": [
       "<pre>Number of examples          : 18</pre>"
      ],
      "text/plain": [
       "Number of examples          : 18"
      ]
     },
     "metadata": {},
     "output_type": "display_data"
    },
    {
     "data": {
      "text/html": [
       "<pre>Number of features          : 3</pre>"
      ],
      "text/plain": [
       "Number of features          : 3"
      ]
     },
     "metadata": {},
     "output_type": "display_data"
    },
    {
     "data": {
      "text/html": [
       "<pre>Number of unpacked features : 3</pre>"
      ],
      "text/plain": [
       "Number of unpacked features : 3"
      ]
     },
     "metadata": {},
     "output_type": "display_data"
    },
    {
     "data": {
      "text/html": [
       "<pre>Number of coefficients    : 4</pre>"
      ],
      "text/plain": [
       "Number of coefficients    : 4"
      ]
     },
     "metadata": {},
     "output_type": "display_data"
    },
    {
     "data": {
      "text/html": [
       "<pre>Starting Newton Method</pre>"
      ],
      "text/plain": [
       "Starting Newton Method"
      ]
     },
     "metadata": {},
     "output_type": "display_data"
    },
    {
     "data": {
      "text/html": [
       "<pre>--------------------------------------------------------</pre>"
      ],
      "text/plain": [
       "--------------------------------------------------------"
      ]
     },
     "metadata": {},
     "output_type": "display_data"
    },
    {
     "data": {
      "text/html": [
       "<pre>+-----------+----------+--------------+--------------------+----------------------+---------------+-----------------+</pre>"
      ],
      "text/plain": [
       "+-----------+----------+--------------+--------------------+----------------------+---------------+-----------------+"
      ]
     },
     "metadata": {},
     "output_type": "display_data"
    },
    {
     "data": {
      "text/html": [
       "<pre>| Iteration | Passes   | Elapsed Time | Training-max_error | Validation-max_error | Training-rmse | Validation-rmse |</pre>"
      ],
      "text/plain": [
       "| Iteration | Passes   | Elapsed Time | Training-max_error | Validation-max_error | Training-rmse | Validation-rmse |"
      ]
     },
     "metadata": {},
     "output_type": "display_data"
    },
    {
     "data": {
      "text/html": [
       "<pre>+-----------+----------+--------------+--------------------+----------------------+---------------+-----------------+</pre>"
      ],
      "text/plain": [
       "+-----------+----------+--------------+--------------------+----------------------+---------------+-----------------+"
      ]
     },
     "metadata": {},
     "output_type": "display_data"
    },
    {
     "data": {
      "text/html": [
       "<pre>| 1         | 2        | 0.001863     | 1.322418           | 0.385782             | 0.686461      | 0.359342        |</pre>"
      ],
      "text/plain": [
       "| 1         | 2        | 0.001863     | 1.322418           | 0.385782             | 0.686461      | 0.359342        |"
      ]
     },
     "metadata": {},
     "output_type": "display_data"
    },
    {
     "data": {
      "text/html": [
       "<pre>+-----------+----------+--------------+--------------------+----------------------+---------------+-----------------+</pre>"
      ],
      "text/plain": [
       "+-----------+----------+--------------+--------------------+----------------------+---------------+-----------------+"
      ]
     },
     "metadata": {},
     "output_type": "display_data"
    },
    {
     "data": {
      "text/html": [
       "<pre>SUCCESS: Optimal solution found.</pre>"
      ],
      "text/plain": [
       "SUCCESS: Optimal solution found."
      ]
     },
     "metadata": {},
     "output_type": "display_data"
    },
    {
     "data": {
      "text/html": [
       "<pre></pre>"
      ],
      "text/plain": []
     },
     "metadata": {},
     "output_type": "display_data"
    },
    {
     "data": {
      "text/html": [
       "<pre>Linear regression:</pre>"
      ],
      "text/plain": [
       "Linear regression:"
      ]
     },
     "metadata": {},
     "output_type": "display_data"
    },
    {
     "data": {
      "text/html": [
       "<pre>--------------------------------------------------------</pre>"
      ],
      "text/plain": [
       "--------------------------------------------------------"
      ]
     },
     "metadata": {},
     "output_type": "display_data"
    },
    {
     "data": {
      "text/html": [
       "<pre>Number of examples          : 18</pre>"
      ],
      "text/plain": [
       "Number of examples          : 18"
      ]
     },
     "metadata": {},
     "output_type": "display_data"
    },
    {
     "data": {
      "text/html": [
       "<pre>Number of features          : 3</pre>"
      ],
      "text/plain": [
       "Number of features          : 3"
      ]
     },
     "metadata": {},
     "output_type": "display_data"
    },
    {
     "data": {
      "text/html": [
       "<pre>Number of unpacked features : 3</pre>"
      ],
      "text/plain": [
       "Number of unpacked features : 3"
      ]
     },
     "metadata": {},
     "output_type": "display_data"
    },
    {
     "data": {
      "text/html": [
       "<pre>Number of coefficients    : 4</pre>"
      ],
      "text/plain": [
       "Number of coefficients    : 4"
      ]
     },
     "metadata": {},
     "output_type": "display_data"
    },
    {
     "data": {
      "text/html": [
       "<pre>Starting Newton Method</pre>"
      ],
      "text/plain": [
       "Starting Newton Method"
      ]
     },
     "metadata": {},
     "output_type": "display_data"
    },
    {
     "data": {
      "text/html": [
       "<pre>--------------------------------------------------------</pre>"
      ],
      "text/plain": [
       "--------------------------------------------------------"
      ]
     },
     "metadata": {},
     "output_type": "display_data"
    },
    {
     "data": {
      "text/html": [
       "<pre>+-----------+----------+--------------+--------------------+----------------------+---------------+-----------------+</pre>"
      ],
      "text/plain": [
       "+-----------+----------+--------------+--------------------+----------------------+---------------+-----------------+"
      ]
     },
     "metadata": {},
     "output_type": "display_data"
    },
    {
     "data": {
      "text/html": [
       "<pre>| Iteration | Passes   | Elapsed Time | Training-max_error | Validation-max_error | Training-rmse | Validation-rmse |</pre>"
      ],
      "text/plain": [
       "| Iteration | Passes   | Elapsed Time | Training-max_error | Validation-max_error | Training-rmse | Validation-rmse |"
      ]
     },
     "metadata": {},
     "output_type": "display_data"
    },
    {
     "data": {
      "text/html": [
       "<pre>+-----------+----------+--------------+--------------------+----------------------+---------------+-----------------+</pre>"
      ],
      "text/plain": [
       "+-----------+----------+--------------+--------------------+----------------------+---------------+-----------------+"
      ]
     },
     "metadata": {},
     "output_type": "display_data"
    }
   ],
   "source": [
    "purple_train_data['start_sub_rm'] = map(lambda x, y: x-y, purple_train_data['Start temperature'], purple_train_data['Room temperature'])\n",
    "purple_train_data['ln_start_sub_rm'] = map(lambda x, y: np.log(x-y), purple_train_data['Start temperature'], purple_train_data['Room temperature'])\n",
    "purple_train_data['ln_start'] = map(lambda x: np.log(x), purple_train_data['Start temperature'])\n",
    "\n",
    "\n",
    "purple_test_data['start_sub_rm'] = map(lambda x, y: x-y, purple_test_data['Start temperature'], purple_test_data['Room temperature'])\n",
    "purple_test_data['ln_start_sub_rm'] = map(lambda x, y: np.log(x-y), purple_test_data['Start temperature'], purple_test_data['Room temperature'])\n",
    "purple_test_data['ln_start'] = map(lambda x: np.log(x), purple_test_data['Start temperature'])\n",
    "\n",
    "thermo_features_sub = thermo_features + ['start_sub_rm']\n",
    "\n",
    "purple_model_sub = graphlab.linear_regression.create(purple_train_data, target = 'End temperature', features = thermo_features_sub, \n",
    "                                                  validation_set = purple_test_data)\n",
    "\n",
    "rss_purple_sub = get_residual_sum_of_squares(purple_model_sub, purple_test_data, purple_test_data['End temperature'])\n",
    "\n",
    "thermo_features_ln = thermo_features + ['ln_start']\n",
    "\n",
    "purple_model_ln = graphlab.linear_regression.create(purple_train_data, target = 'End temperature', features = thermo_features_ln, \n",
    "                                                  validation_set = purple_test_data)\n",
    "\n",
    "rss_purple_ln = get_residual_sum_of_squares(purple_model_ln, purple_test_data, purple_test_data['End temperature'])\n",
    "\n",
    "thermo_features_ln_sub = thermo_features + ['ln_start_sub_rm']\n",
    "\n",
    "purple_model_ln_sub = graphlab.linear_regression.create(purple_train_data, target = 'End temperature', features = thermo_features_ln_sub, \n",
    "                                                  validation_set = purple_test_data)\n",
    "\n",
    "rss_purple_ln_sub = get_residual_sum_of_squares(purple_model_ln_sub, purple_test_data, purple_test_data['End temperature'])"
   ]
  },
  {
   "cell_type": "markdown",
   "metadata": {},
   "source": [
    "# Compare RSS for Purple Device Models"
   ]
  },
  {
   "cell_type": "code",
   "execution_count": 8,
   "metadata": {},
   "outputs": [
    {
     "name": "stdout",
     "output_type": "stream",
     "text": [
      "0.25 0.35 0.26 0.26\n"
     ]
    },
    {
     "data": {
      "text/html": [
       "<pre>| 1         | 2        | 0.000537     | 1.318890           | 0.370894             | 0.677018      | 0.362942        |</pre>"
      ],
      "text/plain": [
       "| 1         | 2        | 0.000537     | 1.318890           | 0.370894             | 0.677018      | 0.362942        |"
      ]
     },
     "metadata": {},
     "output_type": "display_data"
    },
    {
     "data": {
      "text/html": [
       "<pre>+-----------+----------+--------------+--------------------+----------------------+---------------+-----------------+</pre>"
      ],
      "text/plain": [
       "+-----------+----------+--------------+--------------------+----------------------+---------------+-----------------+"
      ]
     },
     "metadata": {},
     "output_type": "display_data"
    },
    {
     "data": {
      "text/html": [
       "<pre>SUCCESS: Optimal solution found.</pre>"
      ],
      "text/plain": [
       "SUCCESS: Optimal solution found."
      ]
     },
     "metadata": {},
     "output_type": "display_data"
    },
    {
     "data": {
      "text/html": [
       "<pre></pre>"
      ],
      "text/plain": []
     },
     "metadata": {},
     "output_type": "display_data"
    }
   ],
   "source": [
    "print '%4.2f' % rss_purple, '%4.2f' % rss_purple_sub, '%4.2f' % rss_purple_ln, '%4.2f' % rss_purple_ln_sub"
   ]
  },
  {
   "cell_type": "markdown",
   "metadata": {},
   "source": [
    "# Max-Error and RMSE for Red Device Models"
   ]
  },
  {
   "cell_type": "code",
   "execution_count": 24,
   "metadata": {},
   "outputs": [
    {
     "name": "stdout",
     "output_type": "stream",
     "text": [
      "max-error: 0.67 rmse: 0.46\n",
      "max-error: 0.83 rmse: 0.46\n",
      "max-error: 0.68 rmse: 0.46\n",
      "max-error: 0.69 rmse: 0.45\n"
     ]
    }
   ],
   "source": [
    "result_basic = red_model.evaluate(red_test_data)\n",
    "print 'max-error: %4.2f' % result_basic['max_error'], 'rmse: %4.2f' % result_basic['rmse']\n",
    "\n",
    "result_basic_sub = red_model_sub.evaluate(red_test_data)\n",
    "print 'max-error: %4.2f' % result_basic_sub['max_error'], 'rmse: %4.2f' % result_basic_sub['rmse']\n",
    "\n",
    "result_basic_ln = red_model_ln.evaluate(red_test_data)\n",
    "print 'max-error: %4.2f' % result_basic_ln['max_error'], 'rmse: %4.2f' % result_basic_ln['rmse']\n",
    "\n",
    "result_basic_ln_sub = red_model_ln_sub.evaluate(red_test_data)\n",
    "print 'max-error: %4.2f' % result_basic_ln_sub['max_error'], 'rmse: %4.2f' % result_basic_ln_sub['rmse']"
   ]
  },
  {
   "cell_type": "markdown",
   "metadata": {},
   "source": [
    "# Max-Error and RMSE for Purple Device Models"
   ]
  },
  {
   "cell_type": "code",
   "execution_count": 25,
   "metadata": {},
   "outputs": [
    {
     "name": "stdout",
     "output_type": "stream",
     "text": [
      "max-error: 1.33 rmse: 1.01\n",
      "max-error: 1.00 rmse: 0.79\n",
      "max-error: 1.31 rmse: 0.99\n",
      "max-error: 1.27 rmse: 0.97\n"
     ]
    }
   ],
   "source": [
    "result_basic = purple_model.evaluate(red_test_data)\n",
    "print 'max-error: %4.2f' % result_basic['max_error'], 'rmse: %4.2f' % result_basic['rmse']\n",
    "\n",
    "result_basic_sub = purple_model_sub.evaluate(red_test_data)\n",
    "print 'max-error: %4.2f' % result_basic_sub['max_error'], 'rmse: %4.2f' % result_basic_sub['rmse']\n",
    "\n",
    "result_basic_ln = purple_model_ln.evaluate(red_test_data)\n",
    "print 'max-error: %4.2f' % result_basic_ln['max_error'], 'rmse: %4.2f' % result_basic_ln['rmse']\n",
    "\n",
    "result_basic_ln_sub = purple_model_ln_sub.evaluate(red_test_data)\n",
    "print 'max-error: %4.2f' % result_basic_ln_sub['max_error'], 'rmse: %4.2f' % result_basic_ln_sub['rmse']"
   ]
  }
 ],
 "metadata": {
  "kernelspec": {
   "display_name": "Python 2",
   "language": "python",
   "name": "python2"
  },
  "language_info": {
   "codemirror_mode": {
    "name": "ipython",
    "version": 2
   },
   "file_extension": ".py",
   "mimetype": "text/x-python",
   "name": "python",
   "nbconvert_exporter": "python",
   "pygments_lexer": "ipython2",
   "version": "2.7.15"
  }
 },
 "nbformat": 4,
 "nbformat_minor": 2
}
